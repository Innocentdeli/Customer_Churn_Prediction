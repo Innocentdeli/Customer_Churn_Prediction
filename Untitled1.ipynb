{
 "cells": [
  {
   "cell_type": "markdown",
   "id": "01b7445f",
   "metadata": {},
   "source": [
    "<h1 style='color:blue'>Customer Churn Prediction on Sunbase Customer Data</h1>\n",
    "\n",
    "<b style='color:hotpink;'>Problem Statement:</b>\n",
    "<p>Develop a machine learning model to predict customer churn based on historical customer data. You \n",
    "will follow a typical machine learning project pipeline, from data preprocessing to model deployment.\n",
    "</p>\n",
    "\n",
    "<b  style='color:hotpink;'>Methodology</b>\n",
    "<ol>\n",
    "    <li>\n",
    "Understand the\n",
    "problem,\n",
    "Requirements \n",
    "Constraints\n",
    "        </li>\n",
    "    <li>\n",
    "Data Cleaning,\n",
    "EDA \n",
    "Featurisation\n",
    "        </li>\n",
    "    <li>\n",
    "Create Machine\n",
    "Learning Models\n",
    "To Predict Churn\n",
    "        </li>\n",
    "    <li>\n",
    "Experiment with\n",
    "The models to\n",
    "get the best\n",
    "performing\n",
    "Model\n",
    "        </li>\n",
    "    <li>\n",
    "Conclude the\n",
    "project\n",
    "insights\n",
    "        </li>\n",
    "</ol>\n",
    "\n",
    "<b style='color:hotpink;'>Available Features:</b>\n",
    "<ol>\n",
    "    <li>\n",
    "        Age\t\n",
    "        </li>\n",
    "    <li>\n",
    "        Gender\n",
    "        </li>\n",
    "    <li>\n",
    "        Location\n",
    "        </li>\n",
    "    <li>\n",
    "        Subscription_Length_Months\n",
    "        </li>\n",
    "    <li>\n",
    "        Monthly_Bill\tTotal_Usage_GB\n",
    "    </li>\n",
    "</ol>"
   ]
  },
  {
   "cell_type": "markdown",
   "id": "a5d9141e",
   "metadata": {},
   "source": [
    "<b style='color:hotpink;'>Exploratory Data Analysis And Featurisation</b>\n"
   ]
  },
  {
   "cell_type": "code",
   "execution_count": null,
   "id": "6d102f4e",
   "metadata": {},
   "outputs": [],
   "source": []
  }
 ],
 "metadata": {
  "kernelspec": {
   "display_name": "Python 3",
   "language": "python",
   "name": "python3"
  },
  "language_info": {
   "codemirror_mode": {
    "name": "ipython",
    "version": 3
   },
   "file_extension": ".py",
   "mimetype": "text/x-python",
   "name": "python",
   "nbconvert_exporter": "python",
   "pygments_lexer": "ipython3",
   "version": "3.8.8"
  }
 },
 "nbformat": 4,
 "nbformat_minor": 5
}
